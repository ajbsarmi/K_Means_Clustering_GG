{
 "cells": [
  {
   "cell_type": "markdown",
   "metadata": {},
   "source": [
    "# K-Means Clustering using PySpark Python"
   ]
  },
  {
   "cell_type": "markdown",
   "metadata": {},
   "source": [
    "In this tutorial series, we are going to cover K-Means Clustering using Pyspark. K-means is a clustering algorithm that groups data points into K distinct clusters based on their similarity. It is an unsupervised learning technique that is widely used in data mining, machine learning, and pattern recognition. The algorithm works by iteratively assigning data points to a cluster based on their distance from the cluster’s centroid and then recomputing the centroid of each cluster. The process continues until the clusters’ centroids converge or a maximum number of iterations is reached. K-means is simple, efficient, and effective in finding the optimal clusters for a given dataset, making it a popular choice for various applications.\n",
    "\n",
    "So, a typical clustering problem looks like this:\n",
    "\n",
    "Cluster Similar Documents\n",
    "Cluster Customers based on Features\n",
    "Identify similar physical groups\n",
    "Market Segmentation\n",
    "We’ll be working with a real data set about seeds, from the UCI repository: https://archive.ics.uci.edu/ml/datasets/seeds.\n",
    "\n",
    "Task: We have seven geometrical parameters of wheat kernels and we have to group them into three different varieties of wheat: Kama, Rosa, and Canadian.\n",
    "\n"
   ]
  },
  {
   "cell_type": "code",
   "execution_count": 1,
   "metadata": {},
   "outputs": [
    {
     "name": "stdout",
     "output_type": "stream",
     "text": [
      "25/03/19 14:34:31 WARN Utils: Your hostname, Ardens-MacBook-Pro.local resolves to a loopback address: 127.0.0.1; using 172.20.10.11 instead (on interface en0)\n",
      "25/03/19 14:34:31 WARN Utils: Set SPARK_LOCAL_IP if you need to bind to another address\n"
     ]
    },
    {
     "name": "stderr",
     "output_type": "stream",
     "text": [
      "Setting default log level to \"WARN\".\n",
      "To adjust logging level use sc.setLogLevel(newLevel). For SparkR, use setLogLevel(newLevel).\n"
     ]
    },
    {
     "name": "stdout",
     "output_type": "stream",
     "text": [
      "25/03/19 14:34:32 WARN NativeCodeLoader: Unable to load native-hadoop library for your platform... using builtin-java classes where applicable\n",
      "Spark Version: 3.3.1\n"
     ]
    }
   ],
   "source": [
    "# Starting the PySpark server\n",
    "from pyspark.sql import SparkSession \n",
    "spark = SparkSession.builder.appName('cluster').getOrCreate() \n",
    "print('Spark Version: {}'.format(spark.version))\n"
   ]
  },
  {
   "cell_type": "code",
   "execution_count": 6,
   "metadata": {},
   "outputs": [
    {
     "name": "stdout",
     "output_type": "stream",
     "text": [
      "+-----+---------+-----------+-----------------+---------------+---------------------+-----------------------+\n",
      "| Area|Perimeter|Compactness|Length_of_ kernel|Width_of_kernel|Asymmetry_coefficient|Length_of_kernel_groove|\n",
      "+-----+---------+-----------+-----------------+---------------+---------------------+-----------------------+\n",
      "|15.26|    14.84|      0.871|            5.763|          3.312|                2.221|                   5.22|\n",
      "|14.88|    14.57|     0.8811|            5.554|          3.333|                1.018|                  4.956|\n",
      "|14.29|    14.09|      0.905|            5.291|          3.337|                2.699|                  4.825|\n",
      "|13.84|    13.94|     0.8955|            5.324|          3.379|                2.259|                  4.805|\n",
      "|16.14|    14.99|     0.9034|            5.658|          3.562|                1.355|                  5.175|\n",
      "+-----+---------+-----------+-----------------+---------------+---------------------+-----------------------+\n",
      "only showing top 5 rows\n",
      "\n"
     ]
    }
   ],
   "source": [
    "# Loading the data \n",
    "dataset = spark.read.csv(\"Data/seeds_dataset.csv\",header=True,inferSchema=True) \n",
    "  \n",
    "# Drop the last column that is not needed\n",
    "dataset = dataset.drop('_c7')\n",
    "\n",
    "# Show the data in the above file using the below command \n",
    "dataset.show(5)\n"
   ]
  },
  {
   "cell_type": "code",
   "execution_count": null,
   "metadata": {},
   "outputs": [
    {
     "name": "stdout",
     "output_type": "stream",
     "text": [
      "root\n",
      " |-- Area: double (nullable = true)\n",
      " |-- Perimeter: double (nullable = true)\n",
      " |-- Compactness: double (nullable = true)\n",
      " |-- Length_of_ kernel: double (nullable = true)\n",
      " |-- Width_of_kernel: double (nullable = true)\n",
      " |-- Asymmetry_coefficient: double (nullable = true)\n",
      " |-- Length_of_kernel_groove: double (nullable = true)\n",
      "\n"
     ]
    }
   ],
   "source": [
    "# Print schema \n",
    "dataset.printSchema()"
   ]
  },
  {
   "cell_type": "code",
   "execution_count": 8,
   "metadata": {},
   "outputs": [
    {
     "name": "stdout",
     "output_type": "stream",
     "text": [
      "+--------------------+\n",
      "|            features|\n",
      "+--------------------+\n",
      "|[15.26,14.84,0.87...|\n",
      "|[14.88,14.57,0.88...|\n",
      "|[14.29,14.09,0.90...|\n",
      "|[13.84,13.94,0.89...|\n",
      "|[16.14,14.99,0.90...|\n",
      "+--------------------+\n",
      "only showing top 5 rows\n",
      "\n"
     ]
    }
   ],
   "source": [
    "#  Format the data using Vector Assembler into vectors which will be used as “features”\n",
    "from pyspark.ml.feature import VectorAssembler \n",
    "  \n",
    "vec_assembler = VectorAssembler(inputCols = dataset.columns, \n",
    "                                outputCol='features') \n",
    "  \n",
    "final_data = vec_assembler.transform(dataset) \n",
    "final_data.select('features').show(5)"
   ]
  },
  {
   "cell_type": "code",
   "execution_count": 9,
   "metadata": {},
   "outputs": [
    {
     "name": "stdout",
     "output_type": "stream",
     "text": [
      "+--------------------+\n",
      "|      scaledFeatures|\n",
      "+--------------------+\n",
      "|[5.24452795332028...|\n",
      "|[5.11393027165175...|\n",
      "|[4.91116018695588...|\n",
      "|[4.75650503761158...|\n",
      "|[5.54696468981581...|\n",
      "+--------------------+\n",
      "only showing top 5 rows\n",
      "\n"
     ]
    }
   ],
   "source": [
    "# It is a good idea to scale our data to deal with the curse of dimensionality\n",
    "\n",
    "from pyspark.ml.feature import StandardScaler \n",
    "  \n",
    "scaler = StandardScaler(inputCol=\"features\",  \n",
    "                        outputCol=\"scaledFeatures\",  \n",
    "                        withStd=True,  \n",
    "                        withMean=False) \n",
    "  \n",
    "# Compute summary statistics by fitting the StandardScaler \n",
    "scalerModel = scaler.fit(final_data) \n",
    "  \n",
    "# Normalize each feature to have unit standard deviation. \n",
    "final_data = scalerModel.transform(final_data) \n",
    "  \n",
    "final_data.select('scaledFeatures').show(5)"
   ]
  },
  {
   "cell_type": "code",
   "execution_count": 11,
   "metadata": {},
   "outputs": [
    {
     "name": "stderr",
     "output_type": "stream",
     "text": [
      "                                                                                \r"
     ]
    },
    {
     "name": "stdout",
     "output_type": "stream",
     "text": [
      "Silhouette Score for k = 2 is 0.6613125038335939\n",
      "Silhouette Score for k = 3 is 0.5928460025426588\n",
      "Silhouette Score for k = 4 is 0.49692774232483083\n",
      "Silhouette Score for k = 5 is 0.4889360810557123\n",
      "Silhouette Score for k = 6 is 0.43332109137463537\n",
      "Silhouette Score for k = 7 is 0.39355009188210155\n",
      "Silhouette Score for k = 8 is 0.3571443283540971\n",
      "Silhouette Score for k = 9 is 0.40869151488792843\n"
     ]
    }
   ],
   "source": [
    "# Find the number of clusters using Silhouette Score\n",
    "\n",
    "#Importing the model \n",
    "from pyspark.ml.clustering import KMeans \n",
    "from pyspark.ml.evaluation import ClusteringEvaluator \n",
    "\n",
    "silhouette_score=[] \n",
    "\n",
    "evaluator = ClusteringEvaluator(predictionCol='prediction', \n",
    "\t\t\t\t\t\t\t\tfeaturesCol='scaledFeatures',\n",
    "\t\t\t\t\t\t\t\tmetricName='silhouette', \n",
    "\t\t\t\t\t\t\t\tdistanceMeasure='squaredEuclidean') \n",
    "\n",
    "for i in range(2,10): \n",
    "\tkmeans=KMeans(featuresCol='scaledFeatures', k=i) \n",
    "\tmodel=kmeans.fit(final_data) \n",
    "\tpredictions=model.transform(final_data) \n",
    "\tscore=evaluator.evaluate(predictions) \n",
    "\tsilhouette_score.append(score) \n",
    "\tprint('Silhouette Score for k =',i,'is',score)\n"
   ]
  },
  {
   "cell_type": "code",
   "execution_count": 13,
   "metadata": {},
   "outputs": [
    {
     "name": "stderr",
     "output_type": "stream",
     "text": [
      "Matplotlib is building the font cache; this may take a moment.\n"
     ]
    },
    {
     "data": {
      "image/png": "[encoded data removed]",
      "text/plain": [
       "<Figure size 640x480 with 1 Axes>"
      ]
     },
     "metadata": {},
     "output_type": "display_data"
    }
   ],
   "source": [
    "#Visualizing the silhouette scores in a plot \n",
    "import matplotlib.pyplot as plt \n",
    "  \n",
    "plt.plot(range(2,10),silhouette_score) \n",
    "plt.xlabel('k') \n",
    "plt.ylabel('silhouette score') \n",
    "plt.title('Silhouette Score') \n",
    "plt.show()"
   ]
  },
  {
   "cell_type": "code",
   "execution_count": 14,
   "metadata": {},
   "outputs": [],
   "source": [
    "#  Since there is no definitive answer as to what value of K is an acceptable value. I want to move forward with k = 3 Where a local maximum of Silhouette Score is detected.\n",
    "# Trains a k-means model. \n",
    "kmeans = KMeans(featuresCol='scaledFeatures',k=3) \n",
    "model = kmeans.fit(final_data) \n",
    "predictions = model.transform(final_data)\n"
   ]
  },
  {
   "cell_type": "code",
   "execution_count": 15,
   "metadata": {},
   "outputs": [
    {
     "name": "stdout",
     "output_type": "stream",
     "text": [
      "Cluster Centers: \n",
      "[ 6.35645488 12.40730852 37.41990178 13.93860446  9.7892399   2.41585309\n",
      " 12.29286107]\n",
      "[ 4.96198582 10.97871333 37.30930808 12.44647267  8.62880781  1.80062386\n",
      " 10.41913733]\n",
      "[ 4.07497225 10.14410142 35.89816849 11.80812742  7.54416916  3.15411286\n",
      " 10.38031464]\n"
     ]
    }
   ],
   "source": [
    "# Printing cluster centers \n",
    "centers = model.clusterCenters() \n",
    "print(\"Cluster Centers: \") \n",
    "for center in centers: \n",
    "    print(center)"
   ]
  },
  {
   "cell_type": "code",
   "execution_count": 17,
   "metadata": {},
   "outputs": [
    {
     "name": "stdout",
     "output_type": "stream",
     "text": [
      "+----------+\n",
      "|prediction|\n",
      "+----------+\n",
      "|         1|\n",
      "|         1|\n",
      "|         1|\n",
      "|         1|\n",
      "|         1|\n",
      "|         1|\n",
      "|         1|\n",
      "|         1|\n",
      "|         0|\n",
      "|         1|\n",
      "|         1|\n",
      "|         1|\n",
      "|         1|\n",
      "|         1|\n",
      "|         1|\n",
      "|         1|\n",
      "|         1|\n",
      "|         1|\n",
      "|         1|\n",
      "|         2|\n",
      "|         1|\n",
      "|         1|\n",
      "|         1|\n",
      "|         1|\n",
      "|         1|\n",
      "|         1|\n",
      "|         1|\n",
      "|         1|\n",
      "|         1|\n",
      "|         1|\n",
      "|         1|\n",
      "|         1|\n",
      "|         1|\n",
      "|         1|\n",
      "|         1|\n",
      "|         1|\n",
      "|         1|\n",
      "|         0|\n",
      "|         1|\n",
      "|         1|\n",
      "|         1|\n",
      "|         1|\n",
      "|         1|\n",
      "|         1|\n",
      "|         1|\n",
      "|         1|\n",
      "|         1|\n",
      "|         1|\n",
      "|         1|\n",
      "|         1|\n",
      "|         1|\n",
      "|         1|\n",
      "|         1|\n",
      "|         1|\n",
      "|         1|\n",
      "|         1|\n",
      "|         1|\n",
      "|         1|\n",
      "|         1|\n",
      "|         2|\n",
      "|         2|\n",
      "|         2|\n",
      "|         1|\n",
      "|         2|\n",
      "|         1|\n",
      "|         1|\n",
      "|         1|\n",
      "|         1|\n",
      "|         1|\n",
      "|         2|\n",
      "|         0|\n",
      "|         0|\n",
      "|         0|\n",
      "|         0|\n",
      "|         0|\n",
      "|         0|\n",
      "|         0|\n",
      "|         0|\n",
      "|         0|\n",
      "|         0|\n",
      "|         0|\n",
      "|         0|\n",
      "|         0|\n",
      "|         0|\n",
      "|         0|\n",
      "|         0|\n",
      "|         0|\n",
      "|         0|\n",
      "|         0|\n",
      "|         0|\n",
      "|         0|\n",
      "|         0|\n",
      "|         0|\n",
      "|         0|\n",
      "|         0|\n",
      "|         0|\n",
      "|         0|\n",
      "|         0|\n",
      "|         0|\n",
      "|         0|\n",
      "+----------+\n",
      "only showing top 100 rows\n",
      "\n"
     ]
    }
   ],
   "source": [
    "# Showing the result of groupings:\n",
    "predictions.select('prediction').show(100)"
   ]
  },
  {
   "cell_type": "code",
   "execution_count": 18,
   "metadata": {},
   "outputs": [],
   "source": [
    "#End Session \n",
    "spark.stop() "
   ]
  },
  {
   "cell_type": "code",
   "execution_count": null,
   "metadata": {},
   "outputs": [],
   "source": []
  }
 ],
 "metadata": {
  "kernelspec": {
   "display_name": "Python 3",
   "language": "python",
   "name": "python3"
  },
  "language_info": {
   "codemirror_mode": {
    "name": "ipython",
    "version": 3
   },
   "file_extension": ".py",
   "mimetype": "text/x-python",
   "name": "python",
   "nbconvert_exporter": "python",
   "pygments_lexer": "ipython3",
   "version": "3.10.16"
  }
 },
 "nbformat": 4,
 "nbformat_minor": 2
}
